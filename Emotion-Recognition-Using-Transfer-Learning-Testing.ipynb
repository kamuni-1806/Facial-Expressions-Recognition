{
 "cells": [
  {
   "cell_type": "code",
   "execution_count": null,
   "metadata": {},
   "outputs": [],
   "source": [
    "import cv2\n",
    "from keras.models import load_model\n",
    "from keras.preprocessing import image\n",
    "import numpy as np\n",
    "from PIL import Image \n",
    "\n",
    "model=load_model(r'C:\\Python37\\Projects\\Transfer-Learning-master/facefeatures_new_model.h5')\n",
    "\n",
    "face_cascade=cv2.CascadeClassifier(r'C:\\Python37\\Projects\\models\\research\\object_detection\\data\\haarcascade_frontalface_alt.xml')\n",
    "\n"
   ]
  },
  {
   "cell_type": "code",
   "execution_count": null,
   "metadata": {},
   "outputs": [],
   "source": [
    "def face_extractor(img):\n",
    "    # function detects faces and return the cropped face\n",
    "    # If no face detected, it returns the input image\n",
    "    # gray=cv2.cvtColor(img,cv2.COLOR_BGR2GRAY)\n",
    "\n",
    "    faces=face_cascade.detectMultiScale(img,1.3,5)\n",
    "\n",
    "    if faces is ():\n",
    "        return None\n",
    "\n",
    "    for (x,y,w,h) in faces:\n",
    "        cv2.rectangle(img,(x,y),(x+w,y+h),(0,255,255),2)\n",
    "        cropped_face=img[y:y+h,x:x+w]\n",
    "\n",
    "    return cropped_face"
   ]
  },
  {
   "cell_type": "code",
   "execution_count": null,
   "metadata": {},
   "outputs": [],
   "source": [
    "\n",
    "video_capture=cv2.VideoCapture(0)\n",
    "while True:\n",
    "    _,frame=video_capture.read()\n",
    "\n",
    "    face=face_extractor(frame)\n",
    "    if type(face) is np.ndarray:\n",
    "        face=cv2.resize(face,(224,224))\n",
    "        im= Image.fromarray(face,'RGB')\n",
    "        img_array=np.array(im)\n",
    "        img_array=np.expand_dims(img_array,axis=0)\n",
    "        pred=model.predict(img_array)\n",
    "        print(pred)\n",
    "\n",
    "        name='None matching'\n",
    "        \n",
    "        if(pred[0][0]>0.3):\n",
    "            name='Ashish'\n",
    "        cv2.putText(frame,name,(50,50),cv2.FONT_HERSHEY_COMPLEX,1,(0,255,0),2)\n",
    "    \n",
    "    else:\n",
    "        cv2.putText(frame,\"No Face Found\",(50,50),cv2.FONT_HERSHEY_COMPLEX,1,(0,255,0),2)\n",
    "\n",
    "    cv2.imshow('Video',frame)\n",
    "    if cv2.waitKey(1) & 0xFF == ord('q'):\n",
    "        break\n",
    "\n",
    "video_capture.release()\n",
    "cv2.destroyAllWindows()"
   ]
  }
 ],
 "metadata": {
  "kernelspec": {
   "display_name": "Python 3",
   "language": "python",
   "name": "python3"
  },
  "language_info": {
   "codemirror_mode": {
    "name": "ipython",
    "version": 3
   },
   "file_extension": ".py",
   "mimetype": "text/x-python",
   "name": "python",
   "nbconvert_exporter": "python",
   "pygments_lexer": "ipython3",
   "version": "3.6.9"
  }
 },
 "nbformat": 4,
 "nbformat_minor": 2
}
